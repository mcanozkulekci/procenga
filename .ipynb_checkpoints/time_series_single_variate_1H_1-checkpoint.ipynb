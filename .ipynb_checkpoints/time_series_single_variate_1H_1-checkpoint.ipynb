{
 "cells": [
  {
   "cell_type": "code",
   "execution_count": 1,
   "metadata": {
    "id": "UDXvd4uwhZjc"
   },
   "outputs": [
    {
     "name": "stderr",
     "output_type": "stream",
     "text": [
      "\n",
      "Bad key \"text.kerning_factor\" on line 4 in\n",
      "C:\\anaconda3\\envs\\pml376\\lib\\site-packages\\matplotlib\\mpl-data\\stylelib\\_classic_test_patch.mplstyle.\n",
      "You probably need to get an updated matplotlibrc file from\n",
      "http://github.com/matplotlib/matplotlib/blob/master/matplotlibrc.template\n",
      "or from the matplotlib source distribution\n"
     ]
    }
   ],
   "source": [
    "import pandas as pd\n",
    "import numpy as np\n",
    "import matplotlib.pyplot as plt\n",
    "import seaborn as sbn\n",
    "from sklearn.model_selection import train_test_split\n",
    "from sklearn.preprocessing import MinMaxScaler\n",
    "from tensorflow.keras.models import Sequential\n",
    "from tensorflow.keras.layers import Dense\n",
    "from sklearn.metrics import mean_squared_error, mean_absolute_error\n",
    "from pandas import concat\n",
    "from pandas import DataFrame"
   ]
  },
  {
   "cell_type": "code",
   "execution_count": 2,
   "metadata": {
    "colab": {
     "base_uri": "https://localhost:8080/",
     "height": 402
    },
    "id": "TTD1DUEUlFrC",
    "outputId": "ddca7869-40e4-4e61-cd59-1aa63c600cad"
   },
   "outputs": [
    {
     "data": {
      "text/html": [
       "<div>\n",
       "<style scoped>\n",
       "    .dataframe tbody tr th:only-of-type {\n",
       "        vertical-align: middle;\n",
       "    }\n",
       "\n",
       "    .dataframe tbody tr th {\n",
       "        vertical-align: top;\n",
       "    }\n",
       "\n",
       "    .dataframe thead th {\n",
       "        text-align: right;\n",
       "    }\n",
       "</style>\n",
       "<table border=\"1\" class=\"dataframe\">\n",
       "  <thead>\n",
       "    <tr style=\"text-align: right;\">\n",
       "      <th></th>\n",
       "      <th>unix</th>\n",
       "      <th>date</th>\n",
       "      <th>symbol</th>\n",
       "      <th>open</th>\n",
       "      <th>high</th>\n",
       "      <th>low</th>\n",
       "      <th>close</th>\n",
       "      <th>Volume BTC</th>\n",
       "      <th>Volume USDT</th>\n",
       "      <th>tradecount</th>\n",
       "    </tr>\n",
       "  </thead>\n",
       "  <tbody>\n",
       "    <tr>\n",
       "      <th>0</th>\n",
       "      <td>1.612915e+12</td>\n",
       "      <td>2021-02-10 00:00:00</td>\n",
       "      <td>BTC/USDT</td>\n",
       "      <td>46420.42</td>\n",
       "      <td>46557.24</td>\n",
       "      <td>46052.52</td>\n",
       "      <td>46207.49</td>\n",
       "      <td>639.739914</td>\n",
       "      <td>2.960948e+07</td>\n",
       "      <td>20978.0</td>\n",
       "    </tr>\n",
       "    <tr>\n",
       "      <th>1</th>\n",
       "      <td>1.612912e+12</td>\n",
       "      <td>2021-02-09 23:00:00</td>\n",
       "      <td>BTC/USDT</td>\n",
       "      <td>46839.99</td>\n",
       "      <td>46860.00</td>\n",
       "      <td>46201.37</td>\n",
       "      <td>46420.42</td>\n",
       "      <td>2790.416785</td>\n",
       "      <td>1.296341e+08</td>\n",
       "      <td>113106.0</td>\n",
       "    </tr>\n",
       "    <tr>\n",
       "      <th>2</th>\n",
       "      <td>1.612908e+12</td>\n",
       "      <td>2021-02-09 22:00:00</td>\n",
       "      <td>BTC/USDT</td>\n",
       "      <td>47241.92</td>\n",
       "      <td>47241.92</td>\n",
       "      <td>46440.52</td>\n",
       "      <td>46839.01</td>\n",
       "      <td>2914.614311</td>\n",
       "      <td>1.363150e+08</td>\n",
       "      <td>105273.0</td>\n",
       "    </tr>\n",
       "    <tr>\n",
       "      <th>3</th>\n",
       "      <td>1.612904e+12</td>\n",
       "      <td>2021-02-09 21:00:00</td>\n",
       "      <td>BTC/USDT</td>\n",
       "      <td>47084.16</td>\n",
       "      <td>47461.06</td>\n",
       "      <td>46995.92</td>\n",
       "      <td>47231.03</td>\n",
       "      <td>2564.524939</td>\n",
       "      <td>1.211090e+08</td>\n",
       "      <td>77433.0</td>\n",
       "    </tr>\n",
       "    <tr>\n",
       "      <th>4</th>\n",
       "      <td>1.612901e+12</td>\n",
       "      <td>2021-02-09 20:00:00</td>\n",
       "      <td>BTC/USDT</td>\n",
       "      <td>47060.38</td>\n",
       "      <td>47499.43</td>\n",
       "      <td>46668.48</td>\n",
       "      <td>47084.17</td>\n",
       "      <td>3254.702714</td>\n",
       "      <td>1.532251e+08</td>\n",
       "      <td>100788.0</td>\n",
       "    </tr>\n",
       "    <tr>\n",
       "      <th>...</th>\n",
       "      <td>...</td>\n",
       "      <td>...</td>\n",
       "      <td>...</td>\n",
       "      <td>...</td>\n",
       "      <td>...</td>\n",
       "      <td>...</td>\n",
       "      <td>...</td>\n",
       "      <td>...</td>\n",
       "      <td>...</td>\n",
       "      <td>...</td>\n",
       "    </tr>\n",
       "    <tr>\n",
       "      <th>33184</th>\n",
       "      <td>1.502957e+09</td>\n",
       "      <td>2017-08-17 08-AM</td>\n",
       "      <td>BTC/USDT</td>\n",
       "      <td>4349.99</td>\n",
       "      <td>4377.85</td>\n",
       "      <td>4333.32</td>\n",
       "      <td>4360.69</td>\n",
       "      <td>0.949900</td>\n",
       "      <td>4.139700e+03</td>\n",
       "      <td>NaN</td>\n",
       "    </tr>\n",
       "    <tr>\n",
       "      <th>33185</th>\n",
       "      <td>1.502953e+09</td>\n",
       "      <td>2017-08-17 07-AM</td>\n",
       "      <td>BTC/USDT</td>\n",
       "      <td>4324.35</td>\n",
       "      <td>4349.99</td>\n",
       "      <td>4287.41</td>\n",
       "      <td>4349.99</td>\n",
       "      <td>4.440000</td>\n",
       "      <td>1.924106e+04</td>\n",
       "      <td>NaN</td>\n",
       "    </tr>\n",
       "    <tr>\n",
       "      <th>33186</th>\n",
       "      <td>1.502950e+09</td>\n",
       "      <td>2017-08-17 06-AM</td>\n",
       "      <td>BTC/USDT</td>\n",
       "      <td>4315.32</td>\n",
       "      <td>4345.45</td>\n",
       "      <td>4309.37</td>\n",
       "      <td>4324.35</td>\n",
       "      <td>7.230000</td>\n",
       "      <td>3.128231e+04</td>\n",
       "      <td>NaN</td>\n",
       "    </tr>\n",
       "    <tr>\n",
       "      <th>33187</th>\n",
       "      <td>1.502946e+09</td>\n",
       "      <td>2017-08-17 05-AM</td>\n",
       "      <td>BTC/USDT</td>\n",
       "      <td>4308.83</td>\n",
       "      <td>4328.69</td>\n",
       "      <td>4291.37</td>\n",
       "      <td>4315.32</td>\n",
       "      <td>23.230000</td>\n",
       "      <td>1.003048e+05</td>\n",
       "      <td>NaN</td>\n",
       "    </tr>\n",
       "    <tr>\n",
       "      <th>33188</th>\n",
       "      <td>1.502942e+09</td>\n",
       "      <td>2017-08-17 04-AM</td>\n",
       "      <td>BTC/USDT</td>\n",
       "      <td>16199.91</td>\n",
       "      <td>16199.91</td>\n",
       "      <td>4261.32</td>\n",
       "      <td>4308.83</td>\n",
       "      <td>44.510000</td>\n",
       "      <td>1.909529e+05</td>\n",
       "      <td>NaN</td>\n",
       "    </tr>\n",
       "  </tbody>\n",
       "</table>\n",
       "<p>33189 rows × 10 columns</p>\n",
       "</div>"
      ],
      "text/plain": [
       "               unix                 date    symbol      open      high  \\\n",
       "0      1.612915e+12  2021-02-10 00:00:00  BTC/USDT  46420.42  46557.24   \n",
       "1      1.612912e+12  2021-02-09 23:00:00  BTC/USDT  46839.99  46860.00   \n",
       "2      1.612908e+12  2021-02-09 22:00:00  BTC/USDT  47241.92  47241.92   \n",
       "3      1.612904e+12  2021-02-09 21:00:00  BTC/USDT  47084.16  47461.06   \n",
       "4      1.612901e+12  2021-02-09 20:00:00  BTC/USDT  47060.38  47499.43   \n",
       "...             ...                  ...       ...       ...       ...   \n",
       "33184  1.502957e+09     2017-08-17 08-AM  BTC/USDT   4349.99   4377.85   \n",
       "33185  1.502953e+09     2017-08-17 07-AM  BTC/USDT   4324.35   4349.99   \n",
       "33186  1.502950e+09     2017-08-17 06-AM  BTC/USDT   4315.32   4345.45   \n",
       "33187  1.502946e+09     2017-08-17 05-AM  BTC/USDT   4308.83   4328.69   \n",
       "33188  1.502942e+09     2017-08-17 04-AM  BTC/USDT  16199.91  16199.91   \n",
       "\n",
       "            low     close   Volume BTC   Volume USDT  tradecount  \n",
       "0      46052.52  46207.49   639.739914  2.960948e+07     20978.0  \n",
       "1      46201.37  46420.42  2790.416785  1.296341e+08    113106.0  \n",
       "2      46440.52  46839.01  2914.614311  1.363150e+08    105273.0  \n",
       "3      46995.92  47231.03  2564.524939  1.211090e+08     77433.0  \n",
       "4      46668.48  47084.17  3254.702714  1.532251e+08    100788.0  \n",
       "...         ...       ...          ...           ...         ...  \n",
       "33184   4333.32   4360.69     0.949900  4.139700e+03         NaN  \n",
       "33185   4287.41   4349.99     4.440000  1.924106e+04         NaN  \n",
       "33186   4309.37   4324.35     7.230000  3.128231e+04         NaN  \n",
       "33187   4291.37   4315.32    23.230000  1.003048e+05         NaN  \n",
       "33188   4261.32   4308.83    44.510000  1.909529e+05         NaN  \n",
       "\n",
       "[33189 rows x 10 columns]"
      ]
     },
     "execution_count": 2,
     "metadata": {},
     "output_type": "execute_result"
    }
   ],
   "source": [
    "new_df = pd.read_csv(\"Binance_BTCUSDT_1h.csv\")\n",
    "new_df"
   ]
  },
  {
   "cell_type": "code",
   "execution_count": 3,
   "metadata": {
    "colab": {
     "base_uri": "https://localhost:8080/",
     "height": 402
    },
    "id": "R9KhXRQMlajh",
    "outputId": "5fe4b964-e266-4b69-fff7-1b91249bdf75"
   },
   "outputs": [
    {
     "data": {
      "text/html": [
       "<div>\n",
       "<style scoped>\n",
       "    .dataframe tbody tr th:only-of-type {\n",
       "        vertical-align: middle;\n",
       "    }\n",
       "\n",
       "    .dataframe tbody tr th {\n",
       "        vertical-align: top;\n",
       "    }\n",
       "\n",
       "    .dataframe thead th {\n",
       "        text-align: right;\n",
       "    }\n",
       "</style>\n",
       "<table border=\"1\" class=\"dataframe\">\n",
       "  <thead>\n",
       "    <tr style=\"text-align: right;\">\n",
       "      <th></th>\n",
       "      <th>close</th>\n",
       "    </tr>\n",
       "  </thead>\n",
       "  <tbody>\n",
       "    <tr>\n",
       "      <th>0</th>\n",
       "      <td>46207.49</td>\n",
       "    </tr>\n",
       "    <tr>\n",
       "      <th>1</th>\n",
       "      <td>46420.42</td>\n",
       "    </tr>\n",
       "    <tr>\n",
       "      <th>2</th>\n",
       "      <td>46839.01</td>\n",
       "    </tr>\n",
       "    <tr>\n",
       "      <th>3</th>\n",
       "      <td>47231.03</td>\n",
       "    </tr>\n",
       "    <tr>\n",
       "      <th>4</th>\n",
       "      <td>47084.17</td>\n",
       "    </tr>\n",
       "    <tr>\n",
       "      <th>...</th>\n",
       "      <td>...</td>\n",
       "    </tr>\n",
       "    <tr>\n",
       "      <th>33184</th>\n",
       "      <td>4360.69</td>\n",
       "    </tr>\n",
       "    <tr>\n",
       "      <th>33185</th>\n",
       "      <td>4349.99</td>\n",
       "    </tr>\n",
       "    <tr>\n",
       "      <th>33186</th>\n",
       "      <td>4324.35</td>\n",
       "    </tr>\n",
       "    <tr>\n",
       "      <th>33187</th>\n",
       "      <td>4315.32</td>\n",
       "    </tr>\n",
       "    <tr>\n",
       "      <th>33188</th>\n",
       "      <td>4308.83</td>\n",
       "    </tr>\n",
       "  </tbody>\n",
       "</table>\n",
       "<p>33189 rows × 1 columns</p>\n",
       "</div>"
      ],
      "text/plain": [
       "          close\n",
       "0      46207.49\n",
       "1      46420.42\n",
       "2      46839.01\n",
       "3      47231.03\n",
       "4      47084.17\n",
       "...         ...\n",
       "33184   4360.69\n",
       "33185   4349.99\n",
       "33186   4324.35\n",
       "33187   4315.32\n",
       "33188   4308.83\n",
       "\n",
       "[33189 rows x 1 columns]"
      ]
     },
     "execution_count": 3,
     "metadata": {},
     "output_type": "execute_result"
    }
   ],
   "source": [
    "df = new_df.drop(['unix', 'date', 'symbol', 'open', 'high', 'low', 'Volume BTC', 'Volume USDT', 'tradecount'], axis=1)\n",
    "df"
   ]
  },
  {
   "cell_type": "code",
   "execution_count": 4,
   "metadata": {
    "colab": {
     "base_uri": "https://localhost:8080/",
     "height": 402
    },
    "id": "wPmZIXe1l-vn",
    "outputId": "ac29127a-cd54-46f5-8877-ae2cda48bef2"
   },
   "outputs": [
    {
     "data": {
      "text/html": [
       "<div>\n",
       "<style scoped>\n",
       "    .dataframe tbody tr th:only-of-type {\n",
       "        vertical-align: middle;\n",
       "    }\n",
       "\n",
       "    .dataframe tbody tr th {\n",
       "        vertical-align: top;\n",
       "    }\n",
       "\n",
       "    .dataframe thead th {\n",
       "        text-align: right;\n",
       "    }\n",
       "</style>\n",
       "<table border=\"1\" class=\"dataframe\">\n",
       "  <thead>\n",
       "    <tr style=\"text-align: right;\">\n",
       "      <th></th>\n",
       "      <th>close</th>\n",
       "    </tr>\n",
       "  </thead>\n",
       "  <tbody>\n",
       "    <tr>\n",
       "      <th>0</th>\n",
       "      <td>4308.83</td>\n",
       "    </tr>\n",
       "    <tr>\n",
       "      <th>1</th>\n",
       "      <td>4315.32</td>\n",
       "    </tr>\n",
       "    <tr>\n",
       "      <th>2</th>\n",
       "      <td>4324.35</td>\n",
       "    </tr>\n",
       "    <tr>\n",
       "      <th>3</th>\n",
       "      <td>4349.99</td>\n",
       "    </tr>\n",
       "    <tr>\n",
       "      <th>4</th>\n",
       "      <td>4360.69</td>\n",
       "    </tr>\n",
       "    <tr>\n",
       "      <th>...</th>\n",
       "      <td>...</td>\n",
       "    </tr>\n",
       "    <tr>\n",
       "      <th>33184</th>\n",
       "      <td>47084.17</td>\n",
       "    </tr>\n",
       "    <tr>\n",
       "      <th>33185</th>\n",
       "      <td>47231.03</td>\n",
       "    </tr>\n",
       "    <tr>\n",
       "      <th>33186</th>\n",
       "      <td>46839.01</td>\n",
       "    </tr>\n",
       "    <tr>\n",
       "      <th>33187</th>\n",
       "      <td>46420.42</td>\n",
       "    </tr>\n",
       "    <tr>\n",
       "      <th>33188</th>\n",
       "      <td>46207.49</td>\n",
       "    </tr>\n",
       "  </tbody>\n",
       "</table>\n",
       "<p>33189 rows × 1 columns</p>\n",
       "</div>"
      ],
      "text/plain": [
       "          close\n",
       "0       4308.83\n",
       "1       4315.32\n",
       "2       4324.35\n",
       "3       4349.99\n",
       "4       4360.69\n",
       "...         ...\n",
       "33184  47084.17\n",
       "33185  47231.03\n",
       "33186  46839.01\n",
       "33187  46420.42\n",
       "33188  46207.49\n",
       "\n",
       "[33189 rows x 1 columns]"
      ]
     },
     "execution_count": 4,
     "metadata": {},
     "output_type": "execute_result"
    }
   ],
   "source": [
    "sorted_df = df[::-1].reset_index()\n",
    "df = sorted_df.drop(['index'], axis=1)\n",
    "df"
   ]
  },
  {
   "cell_type": "code",
   "execution_count": 5,
   "metadata": {
    "id": "Rj7WZ4DflPde"
   },
   "outputs": [],
   "source": [
    "def series_to_supervised(data, n_in=1, n_out=1, dropnan=True):\n",
    "\t\"\"\"\n",
    "\tFrame a time series as a supervised learning dataset.\n",
    "\tArguments:\n",
    "\t\tdata: Sequence of observations as a list or NumPy array.\n",
    "\t\tn_in: Number of lag observations as input (X).\n",
    "\t\tn_out: Number of observations as output (y).\n",
    "\t\tdropnan: Boolean whether or not to drop rows with NaN values.\n",
    "\tReturns:\n",
    "\t\tPandas DataFrame of series framed for supervised learning.\n",
    "\t\"\"\"\n",
    "\tn_vars = 1 if type(data) is list else data.shape[1]\n",
    "\tdf = DataFrame(data)\n",
    "\tcols, names = list(), list()\n",
    "\t# input sequence (t-n, ... t-1)\n",
    "\tfor i in range(n_in, 0, -1):\n",
    "\t\tcols.append(df.shift(i))\n",
    "\t\tnames += [('var%d(t-%d)' % (j+1, i)) for j in range(n_vars)]\n",
    "\t# forecast sequence (t, t+1, ... t+n)\n",
    "\tfor i in range(0, n_out):\n",
    "\t\tcols.append(df.shift(-i))\n",
    "\t\tif i == 0:\n",
    "\t\t\tnames += [('var%d(t)' % (j+1)) for j in range(n_vars)]\n",
    "\t\telse:\n",
    "\t\t\tnames += [('var%d(t+%d)' % (j+1, i)) for j in range(n_vars)]\n",
    "\t# put it all together\n",
    "\tagg = concat(cols, axis=1)\n",
    "\tagg.columns = names\n",
    "\t# drop rows with NaN values\n",
    "\tif dropnan:\n",
    "\t\tagg.dropna(inplace=True)\n",
    "\treturn agg"
   ]
  },
  {
   "cell_type": "code",
   "execution_count": 6,
   "metadata": {
    "colab": {
     "base_uri": "https://localhost:8080/",
     "height": 402
    },
    "id": "s6ovcfLSmzbQ",
    "outputId": "472d9f7e-1b78-4ce2-e1e4-62eb7a879508"
   },
   "outputs": [
    {
     "data": {
      "text/html": [
       "<div>\n",
       "<style scoped>\n",
       "    .dataframe tbody tr th:only-of-type {\n",
       "        vertical-align: middle;\n",
       "    }\n",
       "\n",
       "    .dataframe tbody tr th {\n",
       "        vertical-align: top;\n",
       "    }\n",
       "\n",
       "    .dataframe thead th {\n",
       "        text-align: right;\n",
       "    }\n",
       "</style>\n",
       "<table border=\"1\" class=\"dataframe\">\n",
       "  <thead>\n",
       "    <tr style=\"text-align: right;\">\n",
       "      <th></th>\n",
       "      <th>var1(t-1)</th>\n",
       "      <th>var1(t)</th>\n",
       "    </tr>\n",
       "  </thead>\n",
       "  <tbody>\n",
       "    <tr>\n",
       "      <th>1</th>\n",
       "      <td>4308.83</td>\n",
       "      <td>4315.32</td>\n",
       "    </tr>\n",
       "    <tr>\n",
       "      <th>2</th>\n",
       "      <td>4315.32</td>\n",
       "      <td>4324.35</td>\n",
       "    </tr>\n",
       "    <tr>\n",
       "      <th>3</th>\n",
       "      <td>4324.35</td>\n",
       "      <td>4349.99</td>\n",
       "    </tr>\n",
       "    <tr>\n",
       "      <th>4</th>\n",
       "      <td>4349.99</td>\n",
       "      <td>4360.69</td>\n",
       "    </tr>\n",
       "    <tr>\n",
       "      <th>5</th>\n",
       "      <td>4360.69</td>\n",
       "      <td>4444.00</td>\n",
       "    </tr>\n",
       "    <tr>\n",
       "      <th>...</th>\n",
       "      <td>...</td>\n",
       "      <td>...</td>\n",
       "    </tr>\n",
       "    <tr>\n",
       "      <th>33184</th>\n",
       "      <td>47060.18</td>\n",
       "      <td>47084.17</td>\n",
       "    </tr>\n",
       "    <tr>\n",
       "      <th>33185</th>\n",
       "      <td>47084.17</td>\n",
       "      <td>47231.03</td>\n",
       "    </tr>\n",
       "    <tr>\n",
       "      <th>33186</th>\n",
       "      <td>47231.03</td>\n",
       "      <td>46839.01</td>\n",
       "    </tr>\n",
       "    <tr>\n",
       "      <th>33187</th>\n",
       "      <td>46839.01</td>\n",
       "      <td>46420.42</td>\n",
       "    </tr>\n",
       "    <tr>\n",
       "      <th>33188</th>\n",
       "      <td>46420.42</td>\n",
       "      <td>46207.49</td>\n",
       "    </tr>\n",
       "  </tbody>\n",
       "</table>\n",
       "<p>33188 rows × 2 columns</p>\n",
       "</div>"
      ],
      "text/plain": [
       "       var1(t-1)   var1(t)\n",
       "1        4308.83   4315.32\n",
       "2        4315.32   4324.35\n",
       "3        4324.35   4349.99\n",
       "4        4349.99   4360.69\n",
       "5        4360.69   4444.00\n",
       "...          ...       ...\n",
       "33184   47060.18  47084.17\n",
       "33185   47084.17  47231.03\n",
       "33186   47231.03  46839.01\n",
       "33187   46839.01  46420.42\n",
       "33188   46420.42  46207.49\n",
       "\n",
       "[33188 rows x 2 columns]"
      ]
     },
     "execution_count": 6,
     "metadata": {},
     "output_type": "execute_result"
    }
   ],
   "source": [
    "data = series_to_supervised(df)\n",
    "data"
   ]
  },
  {
   "cell_type": "code",
   "execution_count": 7,
   "metadata": {
    "id": "kwhajhcBnAw0"
   },
   "outputs": [],
   "source": [
    "y = data[\"var1(t)\"].values\n",
    "x = data.drop(\"var1(t)\",axis=1).values\n",
    "y_evolution = data[\"var1(t)\"].values\n",
    "x_evolution = data.drop(\"var1(t)\",axis=1).values"
   ]
  },
  {
   "cell_type": "code",
   "execution_count": 8,
   "metadata": {
    "colab": {
     "base_uri": "https://localhost:8080/"
    },
    "id": "Ov5qBVmunFbQ",
    "outputId": "32644843-a951-4e90-c165-50fbb1a5b4e1"
   },
   "outputs": [
    {
     "data": {
      "text/plain": [
       "array([ 4315.32,  4324.35,  4349.99, ..., 46839.01, 46420.42, 46207.49])"
      ]
     },
     "execution_count": 8,
     "metadata": {},
     "output_type": "execute_result"
    }
   ],
   "source": [
    "y"
   ]
  },
  {
   "cell_type": "code",
   "execution_count": 9,
   "metadata": {
    "colab": {
     "base_uri": "https://localhost:8080/"
    },
    "id": "qAeEY1PunHGW",
    "outputId": "d6aea5de-3675-4123-bd15-250e8d3f762c"
   },
   "outputs": [
    {
     "data": {
      "text/plain": [
       "array([[ 4308.83],\n",
       "       [ 4315.32],\n",
       "       [ 4324.35],\n",
       "       ...,\n",
       "       [47231.03],\n",
       "       [46839.01],\n",
       "       [46420.42]])"
      ]
     },
     "execution_count": 9,
     "metadata": {},
     "output_type": "execute_result"
    }
   ],
   "source": [
    "x"
   ]
  },
  {
   "cell_type": "code",
   "execution_count": 10,
   "metadata": {
    "colab": {
     "base_uri": "https://localhost:8080/"
    },
    "id": "DgsONOwSnHvl",
    "outputId": "8be7c599-ace2-452b-d956-af8fbced812a"
   },
   "outputs": [
    {
     "data": {
      "text/plain": [
       "26550"
      ]
     },
     "execution_count": 10,
     "metadata": {},
     "output_type": "execute_result"
    }
   ],
   "source": [
    "x_train, x_test, y_train, y_test = train_test_split(x,y,test_size=0.2,random_state=10)\n",
    "len(x_train)"
   ]
  },
  {
   "cell_type": "code",
   "execution_count": 11,
   "metadata": {
    "colab": {
     "base_uri": "https://localhost:8080/"
    },
    "id": "538UEYAmnPdw",
    "outputId": "18f812e5-d14e-4c15-c55c-de7e02d5f996"
   },
   "outputs": [
    {
     "data": {
      "text/plain": [
       "6638"
      ]
     },
     "execution_count": 11,
     "metadata": {},
     "output_type": "execute_result"
    }
   ],
   "source": [
    "len(x_test)"
   ]
  },
  {
   "cell_type": "code",
   "execution_count": 12,
   "metadata": {
    "colab": {
     "base_uri": "https://localhost:8080/"
    },
    "id": "UwAe_CavnSh9",
    "outputId": "0d30d4b8-6e0d-4441-d4cc-95f5692f484d"
   },
   "outputs": [
    {
     "data": {
      "text/plain": [
       "(26550, 1)"
      ]
     },
     "execution_count": 12,
     "metadata": {},
     "output_type": "execute_result"
    }
   ],
   "source": [
    "scaler = MinMaxScaler()\n",
    "x_train = scaler.fit_transform(x_train)\n",
    "x_test = scaler.transform(x_test)\n",
    "x_train.shape"
   ]
  },
  {
   "cell_type": "code",
   "execution_count": 13,
   "metadata": {
    "id": "VxJmsJ-NnVUX"
   },
   "outputs": [],
   "source": [
    "model = Sequential()\n",
    "\n",
    "model.add(Dense(500,activation=\"relu\"))\n",
    "model.add(Dense(500,activation=\"relu\"))\n",
    "model.add(Dense(500,activation=\"relu\"))\n",
    "model.add(Dense(500,activation=\"relu\"))\n",
    "model.add(Dense(500,activation=\"relu\"))\n",
    "model.add(Dense(500,activation=\"relu\"))\n",
    "model.add(Dense(500,activation=\"relu\"))\n",
    "model.add(Dense(500,activation=\"relu\"))\n",
    "model.add(Dense(500,activation=\"relu\"))\n",
    "\n",
    "model.add(Dense(1))\n",
    "\n",
    "model.compile(optimizer=\"adam\",loss=\"mse\")"
   ]
  },
  {
   "cell_type": "code",
   "execution_count": null,
   "metadata": {
    "colab": {
     "base_uri": "https://localhost:8080/"
    },
    "id": "MImpznSMnsHx",
    "outputId": "21213362-ed63-4bec-e731-bd32bb06922c"
   },
   "outputs": [
    {
     "name": "stdout",
     "output_type": "stream",
     "text": [
      "Epoch 1/300\n",
      "27/27 [==============================] - 2s 61ms/step - loss: 115111116.8571 - val_loss: 23527730.0000\n",
      "Epoch 2/300\n",
      "27/27 [==============================] - 1s 48ms/step - loss: 12636328.4286 - val_loss: 2195557.7500\n",
      "Epoch 3/300\n",
      "27/27 [==============================] - 1s 48ms/step - loss: 812872.5670 - val_loss: 148820.2031\n",
      "Epoch 4/300\n",
      "27/27 [==============================] - 1s 49ms/step - loss: 90808.8542 - val_loss: 31473.7227\n",
      "Epoch 5/300\n",
      "27/27 [==============================] - 1s 49ms/step - loss: 22932.6496 - val_loss: 18464.4453\n",
      "Epoch 6/300\n",
      "27/27 [==============================] - 1s 49ms/step - loss: 18630.6704 - val_loss: 17421.7598\n",
      "Epoch 7/300\n",
      "27/27 [==============================] - 1s 48ms/step - loss: 18113.8903 - val_loss: 16529.7773\n",
      "Epoch 8/300\n",
      "27/27 [==============================] - 1s 47ms/step - loss: 16636.4161 - val_loss: 15871.9688\n",
      "Epoch 9/300\n",
      "27/27 [==============================] - 1s 48ms/step - loss: 15608.9976 - val_loss: 15635.6143\n",
      "Epoch 10/300\n",
      "27/27 [==============================] - 1s 47ms/step - loss: 15976.2642 - val_loss: 15547.1826\n",
      "Epoch 11/300\n",
      "27/27 [==============================] - 1s 47ms/step - loss: 14659.4814 - val_loss: 15571.0752\n",
      "Epoch 12/300\n",
      "27/27 [==============================] - 1s 48ms/step - loss: 14026.1814 - val_loss: 15244.3291\n",
      "Epoch 13/300\n",
      "27/27 [==============================] - 1s 48ms/step - loss: 13235.7599 - val_loss: 16379.5283\n",
      "Epoch 14/300\n",
      "27/27 [==============================] - 1s 48ms/step - loss: 16166.8296 - val_loss: 15180.7363\n",
      "Epoch 15/300\n",
      "27/27 [==============================] - 1s 48ms/step - loss: 14376.2510 - val_loss: 15543.8525\n",
      "Epoch 16/300\n",
      "27/27 [==============================] - 1s 47ms/step - loss: 15086.6063 - val_loss: 15354.2549\n",
      "Epoch 17/300\n",
      "27/27 [==============================] - 1s 48ms/step - loss: 14198.8083 - val_loss: 15427.5625\n",
      "Epoch 18/300\n",
      "27/27 [==============================] - 1s 48ms/step - loss: 14974.7762 - val_loss: 15111.7207\n",
      "Epoch 19/300\n",
      "27/27 [==============================] - 1s 48ms/step - loss: 15193.5456 - val_loss: 16196.6992\n",
      "Epoch 20/300\n",
      "27/27 [==============================] - 1s 48ms/step - loss: 14549.3872 - val_loss: 16112.4873\n",
      "Epoch 21/300\n",
      "27/27 [==============================] - 1s 48ms/step - loss: 13606.3038 - val_loss: 17526.9277\n",
      "Epoch 22/300\n",
      "27/27 [==============================] - 1s 54ms/step - loss: 15609.7097 - val_loss: 15275.7725\n",
      "Epoch 23/300\n",
      "27/27 [==============================] - 1s 55ms/step - loss: 16111.7179 - val_loss: 15139.4072\n",
      "Epoch 24/300\n",
      "27/27 [==============================] - 1s 49ms/step - loss: 14019.4707 - val_loss: 15609.0225\n",
      "Epoch 25/300\n",
      "27/27 [==============================] - 1s 49ms/step - loss: 14921.2134 - val_loss: 15557.7812\n",
      "Epoch 26/300\n",
      "27/27 [==============================] - 1s 49ms/step - loss: 14870.1476 - val_loss: 15701.7139\n",
      "Epoch 27/300\n",
      "27/27 [==============================] - 1s 49ms/step - loss: 13965.9646 - val_loss: 15241.5400\n",
      "Epoch 28/300\n",
      "27/27 [==============================] - 1s 50ms/step - loss: 15135.3344 - val_loss: 15509.7461\n",
      "Epoch 29/300\n",
      "27/27 [==============================] - 1s 50ms/step - loss: 15251.7729 - val_loss: 17028.6191\n",
      "Epoch 30/300\n",
      "27/27 [==============================] - 1s 53ms/step - loss: 14205.2409 - val_loss: 15059.2363\n",
      "Epoch 31/300\n",
      "27/27 [==============================] - 1s 49ms/step - loss: 14021.2337 - val_loss: 15217.3857\n",
      "Epoch 32/300\n",
      "27/27 [==============================] - 1s 49ms/step - loss: 15265.8565 - val_loss: 20069.3262\n",
      "Epoch 33/300\n",
      "27/27 [==============================] - 1s 49ms/step - loss: 17846.0206 - val_loss: 18191.2891\n",
      "Epoch 34/300\n",
      "27/27 [==============================] - 1s 49ms/step - loss: 20160.8027 - val_loss: 16534.7598\n",
      "Epoch 35/300\n",
      "27/27 [==============================] - 1s 50ms/step - loss: 16093.2741 - val_loss: 15107.8096\n",
      "Epoch 36/300\n",
      "27/27 [==============================] - 1s 49ms/step - loss: 13623.2060 - val_loss: 15828.4395\n",
      "Epoch 37/300\n",
      "27/27 [==============================] - 1s 49ms/step - loss: 14650.0908 - val_loss: 15627.8350\n",
      "Epoch 38/300\n",
      "27/27 [==============================] - 1s 49ms/step - loss: 14100.6195 - val_loss: 15297.0303\n",
      "Epoch 39/300\n",
      "27/27 [==============================] - 1s 50ms/step - loss: 14824.8851 - val_loss: 15032.8994\n",
      "Epoch 40/300\n",
      "27/27 [==============================] - 1s 49ms/step - loss: 14005.2591 - val_loss: 15025.1514\n",
      "Epoch 41/300\n",
      "27/27 [==============================] - 1s 50ms/step - loss: 14399.7528 - val_loss: 15618.7588\n",
      "Epoch 42/300\n",
      "27/27 [==============================] - 1s 49ms/step - loss: 15620.7073 - val_loss: 15215.2773\n",
      "Epoch 43/300\n",
      "27/27 [==============================] - 1s 49ms/step - loss: 15401.7305 - val_loss: 16125.0547\n",
      "Epoch 44/300\n",
      "27/27 [==============================] - 1s 48ms/step - loss: 15207.3231 - val_loss: 15231.7012\n",
      "Epoch 45/300\n",
      "27/27 [==============================] - 1s 48ms/step - loss: 15694.8485 - val_loss: 15750.0732\n",
      "Epoch 46/300\n",
      "27/27 [==============================] - 1s 48ms/step - loss: 14898.6406 - val_loss: 15213.7158\n",
      "Epoch 47/300\n",
      "27/27 [==============================] - 1s 48ms/step - loss: 14435.7989 - val_loss: 17695.2793\n",
      "Epoch 48/300\n",
      "27/27 [==============================] - 1s 48ms/step - loss: 16431.2158 - val_loss: 20686.7363\n",
      "Epoch 49/300\n",
      "27/27 [==============================] - 1s 47ms/step - loss: 16241.7411 - val_loss: 15286.1680\n",
      "Epoch 50/300\n",
      "27/27 [==============================] - 1s 48ms/step - loss: 16975.1166 - val_loss: 22513.7363\n",
      "Epoch 51/300\n",
      "27/27 [==============================] - 1s 48ms/step - loss: 18611.2211 - val_loss: 15059.9707\n",
      "Epoch 52/300\n",
      "27/27 [==============================] - 1s 47ms/step - loss: 15299.0694 - val_loss: 16551.8965\n",
      "Epoch 53/300\n",
      "27/27 [==============================] - 1s 48ms/step - loss: 15744.1267 - val_loss: 15811.0977\n",
      "Epoch 54/300\n",
      "27/27 [==============================] - 1s 51ms/step - loss: 15731.9769 - val_loss: 15079.3496\n",
      "Epoch 55/300\n",
      "27/27 [==============================] - 1s 48ms/step - loss: 16536.9474 - val_loss: 33589.9883\n",
      "Epoch 56/300\n",
      "27/27 [==============================] - 1s 48ms/step - loss: 20312.9711 - val_loss: 15783.2959\n",
      "Epoch 57/300\n",
      "27/27 [==============================] - 1s 47ms/step - loss: 15051.6557 - val_loss: 18874.6738\n",
      "Epoch 58/300\n",
      "27/27 [==============================] - 1s 48ms/step - loss: 20336.6935 - val_loss: 15280.6055\n",
      "Epoch 59/300\n",
      "27/27 [==============================] - 1s 48ms/step - loss: 15408.6170 - val_loss: 16338.4727\n",
      "Epoch 60/300\n",
      "27/27 [==============================] - 1s 48ms/step - loss: 15938.4156 - val_loss: 21229.7949\n",
      "Epoch 61/300\n",
      "27/27 [==============================] - 1s 48ms/step - loss: 18775.9344 - val_loss: 20302.0879\n",
      "Epoch 62/300\n",
      "27/27 [==============================] - 1s 49ms/step - loss: 16806.2509 - val_loss: 15351.2119\n",
      "Epoch 63/300\n",
      "27/27 [==============================] - 1s 49ms/step - loss: 16983.6357 - val_loss: 16961.3359\n",
      "Epoch 64/300\n",
      "27/27 [==============================] - 1s 49ms/step - loss: 16987.5500 - val_loss: 22406.7441\n",
      "Epoch 65/300\n",
      "27/27 [==============================] - 1s 48ms/step - loss: 17442.5472 - val_loss: 18305.7578\n",
      "Epoch 66/300\n",
      "27/27 [==============================] - 1s 48ms/step - loss: 17848.1369 - val_loss: 19066.4180\n",
      "Epoch 67/300\n",
      "27/27 [==============================] - 1s 49ms/step - loss: 19440.1140 - val_loss: 40535.5508\n",
      "Epoch 68/300\n",
      "27/27 [==============================] - 1s 49ms/step - loss: 28417.6001 - val_loss: 37602.5430\n",
      "Epoch 69/300\n",
      "27/27 [==============================] - 1s 49ms/step - loss: 23360.2240 - val_loss: 15090.9873\n",
      "Epoch 70/300\n",
      "27/27 [==============================] - 1s 50ms/step - loss: 15889.1926 - val_loss: 17914.9961\n",
      "Epoch 71/300\n",
      "27/27 [==============================] - 1s 50ms/step - loss: 17398.6554 - val_loss: 15134.8682\n",
      "Epoch 72/300\n",
      "27/27 [==============================] - 1s 50ms/step - loss: 20256.1611 - val_loss: 15243.0840\n",
      "Epoch 73/300\n",
      "27/27 [==============================] - 1s 50ms/step - loss: 14788.8052 - val_loss: 17225.6426\n",
      "Epoch 74/300\n",
      "27/27 [==============================] - 1s 50ms/step - loss: 17720.7914 - val_loss: 19054.8535\n",
      "Epoch 75/300\n",
      "27/27 [==============================] - 1s 50ms/step - loss: 18622.8314 - val_loss: 16300.3896\n",
      "Epoch 76/300\n"
     ]
    },
    {
     "name": "stdout",
     "output_type": "stream",
     "text": [
      "27/27 [==============================] - 1s 49ms/step - loss: 17643.3873 - val_loss: 19971.8828\n",
      "Epoch 77/300\n",
      "27/27 [==============================] - 1s 49ms/step - loss: 19759.1410 - val_loss: 19479.4863\n",
      "Epoch 78/300\n",
      "27/27 [==============================] - 1s 49ms/step - loss: 16971.5803 - val_loss: 15382.4463\n",
      "Epoch 79/300\n",
      "27/27 [==============================] - 1s 49ms/step - loss: 16111.6707 - val_loss: 19411.0449\n",
      "Epoch 80/300\n",
      "27/27 [==============================] - 1s 50ms/step - loss: 17270.8690 - val_loss: 16864.2461\n",
      "Epoch 81/300\n",
      "12/27 [============>.................] - ETA: 0s - loss: 18141.1035"
     ]
    }
   ],
   "source": [
    "model.fit(x=x_train, y = y_train,validation_data=(x_test,y_test),epochs=300, batch_size=1000)"
   ]
  },
  {
   "cell_type": "code",
   "execution_count": null,
   "metadata": {
    "id": "Uz7bsYSGvaMP"
   },
   "outputs": [],
   "source": [
    "loss_value = pd.DataFrame(model.history.history)"
   ]
  },
  {
   "cell_type": "code",
   "execution_count": null,
   "metadata": {
    "colab": {
     "base_uri": "https://localhost:8080/",
     "height": 293
    },
    "id": "xur6xAVnvfSm",
    "outputId": "55406ad5-98e5-4304-a652-bd8ab7d29de5"
   },
   "outputs": [
    {
     "data": {
      "text/plain": [
       "<matplotlib.axes._subplots.AxesSubplot at 0x7fbff9ff0048>"
      ]
     },
     "execution_count": 24,
     "metadata": {
      "tags": []
     },
     "output_type": "execute_result"
    },
    {
     "data": {
      "image/png": "[encoded data removed]",
      "text/plain": [
       "<Figure size 432x288 with 1 Axes>"
      ]
     },
     "metadata": {
      "needs_background": "light",
      "tags": []
     },
     "output_type": "display_data"
    }
   ],
   "source": [
    "loss_value.plot()"
   ]
  },
  {
   "cell_type": "code",
   "execution_count": null,
   "metadata": {
    "colab": {
     "base_uri": "https://localhost:8080/"
    },
    "id": "aIrrvcE5vn6B",
    "outputId": "6b2ff81b-bf8b-4170-f817-fac2b58b8f89"
   },
   "outputs": [
    {
     "data": {
      "text/plain": [
       "array([[ 9307.662 ],\n",
       "       [ 6615.814 ],\n",
       "       [ 6370.2896],\n",
       "       ...,\n",
       "       [ 8174.2437],\n",
       "       [27045.764 ],\n",
       "       [ 6365.2373]], dtype=float32)"
      ]
     },
     "execution_count": 25,
     "metadata": {
      "tags": []
     },
     "output_type": "execute_result"
    }
   ],
   "source": [
    "predict_que = model.predict(x_test)\n",
    "predict_que"
   ]
  },
  {
   "cell_type": "code",
   "execution_count": null,
   "metadata": {
    "colab": {
     "base_uri": "https://localhost:8080/"
    },
    "id": "Er76Kv2Evo04",
    "outputId": "ac9fd08c-2c21-4bb8-f41a-42b2c06242c5"
   },
   "outputs": [
    {
     "data": {
      "text/plain": [
       "55.35467968808847"
      ]
     },
     "execution_count": 26,
     "metadata": {
      "tags": []
     },
     "output_type": "execute_result"
    }
   ],
   "source": [
    "mean_absolute_error(y_test,predict_que)"
   ]
  },
  {
   "cell_type": "code",
   "execution_count": null,
   "metadata": {
    "colab": {
     "base_uri": "https://localhost:8080/",
     "height": 285
    },
    "id": "4LqqFm-mvuSX",
    "outputId": "1a957f81-9c59-4320-9cda-2e7e9365267c"
   },
   "outputs": [
    {
     "data": {
      "text/plain": [
       "[<matplotlib.lines.Line2D at 0x7fbff9f315f8>]"
      ]
     },
     "execution_count": 27,
     "metadata": {
      "tags": []
     },
     "output_type": "execute_result"
    },
    {
     "data": {
      "image/png": "[encoded data removed]",
      "text/plain": [
       "<Figure size 432x288 with 1 Axes>"
      ]
     },
     "metadata": {
      "needs_background": "light",
      "tags": []
     },
     "output_type": "display_data"
    }
   ],
   "source": [
    "plt.scatter(y_test,predict_que)\n",
    "plt.plot(y_test,y_test,\"g-*\")"
   ]
  },
  {
   "cell_type": "code",
   "execution_count": null,
   "metadata": {
    "colab": {
     "base_uri": "https://localhost:8080/"
    },
    "id": "OAhjpWu9vv4e",
    "outputId": "14cb9edd-7bbf-469c-ff8e-150067fefa7a"
   },
   "outputs": [
    {
     "data": {
      "text/plain": [
       "var1(t-1)    34150.23\n",
       "var1(t)      33906.57\n",
       "Name: 32901, dtype: float64"
      ]
     },
     "execution_count": 65,
     "metadata": {
      "tags": []
     },
     "output_type": "execute_result"
    }
   ],
   "source": [
    "data.iloc[32900]"
   ]
  },
  {
   "cell_type": "code",
   "execution_count": null,
   "metadata": {
    "colab": {
     "base_uri": "https://localhost:8080/"
    },
    "id": "KxjJ_-SGvzvr",
    "outputId": "55c75bb3-c77f-4589-f53d-74d5c53eb400"
   },
   "outputs": [
    {
     "data": {
      "text/plain": [
       "var1(t-1)    34150.23\n",
       "Name: 32901, dtype: float64"
      ]
     },
     "execution_count": 63,
     "metadata": {
      "tags": []
     },
     "output_type": "execute_result"
    }
   ],
   "source": [
    "new_prices = data.drop(\"var1(t)\",axis=1).iloc[32900]\n",
    "new_prices"
   ]
  },
  {
   "cell_type": "code",
   "execution_count": null,
   "metadata": {
    "colab": {
     "base_uri": "https://localhost:8080/"
    },
    "id": "RI5Y8apRv2A5",
    "outputId": "f1fca4b4-2153-49b4-86d2-34d7ac869f89"
   },
   "outputs": [
    {
     "data": {
      "text/plain": [
       "array([[0.69107598]])"
      ]
     },
     "execution_count": 64,
     "metadata": {
      "tags": []
     },
     "output_type": "execute_result"
    }
   ],
   "source": [
    "new_prices = scaler.transform(new_prices.values.reshape(-1,1))\n",
    "new_prices"
   ]
  },
  {
   "cell_type": "code",
   "execution_count": null,
   "metadata": {
    "colab": {
     "base_uri": "https://localhost:8080/"
    },
    "id": "L9y9PWHhv20e",
    "outputId": "f0791ffe-826d-439a-942e-e528a9184972"
   },
   "outputs": [
    {
     "data": {
      "text/plain": [
       "array([[34173.71]], dtype=float32)"
      ]
     },
     "execution_count": 66,
     "metadata": {
      "tags": []
     },
     "output_type": "execute_result"
    }
   ],
   "source": [
    "model.predict(new_prices)"
   ]
  },
  {
   "cell_type": "code",
   "execution_count": null,
   "metadata": {
    "colab": {
     "base_uri": "https://localhost:8080/"
    },
    "id": "h_yUwjf4v_-X",
    "outputId": "acaef4e9-9798-4894-c5f4-e489b30809cc"
   },
   "outputs": [
    {
     "data": {
      "text/plain": [
       "array([[38861.664]], dtype=float32)"
      ]
     },
     "execution_count": 50,
     "metadata": {
      "tags": []
     },
     "output_type": "execute_result"
    }
   ],
   "source": [
    "current_price = [[38875]]\n",
    "current_price = scaler.transform(current_price)\n",
    "model.predict(current_price)"
   ]
  },
  {
   "cell_type": "code",
   "execution_count": null,
   "metadata": {
    "colab": {
     "base_uri": "https://localhost:8080/"
    },
    "id": "kF66QBaewGzX",
    "outputId": "9486f2dc-d581-4f24-af51-2f924c99412d"
   },
   "outputs": [
    {
     "data": {
      "text/plain": [
       "array([[ 4498.275 ],\n",
       "       [ 4504.7173],\n",
       "       [ 4513.6807],\n",
       "       ...,\n",
       "       [47152.566 ],\n",
       "       [46763.6   ],\n",
       "       [46348.27  ]], dtype=float32)"
      ]
     },
     "execution_count": 33,
     "metadata": {
      "tags": []
     },
     "output_type": "execute_result"
    }
   ],
   "source": [
    "scaled_predict_que =scaler.fit_transform(x)\n",
    "predicted_que = model.predict(scaled_predict_que)\n",
    "predicted_que"
   ]
  },
  {
   "cell_type": "code",
   "execution_count": null,
   "metadata": {
    "colab": {
     "base_uri": "https://localhost:8080/"
    },
    "id": "V-zkXAStwIed",
    "outputId": "be31e6a6-8f07-4a34-902c-4cc1de696f5e"
   },
   "outputs": [
    {
     "name": "stdout",
     "output_type": "stream",
     "text": [
      "Dogru bilinen sayisi ->3433\n",
      "Yanlis bilinen sayisi ->3204\n",
      "Accuracy->0.5172517703781829\n"
     ]
    }
   ],
   "source": [
    "values_correct = 0\n",
    "values_incorrect = 0\n",
    "for a in range(6637):\n",
    "  if y_evolution[a] > x_evolution[a] and predicted_que[a] > x_evolution[a]:\n",
    "    values_correct += 1\n",
    "  elif y_evolution[a] < x_evolution[a] and predicted_que[a] < x_evolution[a]:\n",
    "    values_correct += 1\n",
    "  else:\n",
    "    values_incorrect += 1\n",
    "print(\"Dogru bilinen sayisi ->{}\".format(values_correct))\n",
    "print(\"Yanlis bilinen sayisi ->{}\".format(values_incorrect))\n",
    "print(\"Accuracy->{}\".format(float(values_correct)/6637))"
   ]
  },
  {
   "cell_type": "code",
   "execution_count": null,
   "metadata": {
    "colab": {
     "base_uri": "https://localhost:8080/"
    },
    "id": "6arNXOHH4MvA",
    "outputId": "f4079785-1fea-48ad-93cc-da880701c085"
   },
   "outputs": [
    {
     "name": "stdout",
     "output_type": "stream",
     "text": [
      "Saved model to disk\n"
     ]
    }
   ],
   "source": [
    "model_json = model.to_json()\n",
    "with open(\"model_1h_yeni.json\", \"w\") as json_file:\n",
    "    json_file.write(model_json)\n",
    "\n",
    "model.save_weights(\"model_1h_yeni.h5\")\n",
    "print(\"Saved model to disk\")"
   ]
  }
 ],
 "metadata": {
  "colab": {
   "collapsed_sections": [],
   "name": "time series - single variate 1H",
   "provenance": []
  },
  "kernelspec": {
   "display_name": "Python 3",
   "language": "python",
   "name": "python3"
  },
  "language_info": {
   "codemirror_mode": {
    "name": "ipython",
    "version": 3
   },
   "file_extension": ".py",
   "mimetype": "text/x-python",
   "name": "python",
   "nbconvert_exporter": "python",
   "pygments_lexer": "ipython3",
   "version": "3.7.6"
  }
 },
 "nbformat": 4,
 "nbformat_minor": 1
}
